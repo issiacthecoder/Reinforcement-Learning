{
 "cells": [
  {
   "cell_type": "code",
   "execution_count": 28,
   "metadata": {},
   "outputs": [
    {
     "name": "stdout",
     "output_type": "stream",
     "text": [
      "[[ 0.  0.  0.  0.  0.]\n",
      " [ 0.  0.  0.  0.  0.]\n",
      " [ 0.  0.  0.  0.  0.]\n",
      " [ 0. nan  0.  0.  0.]\n",
      " [ 0.  0.  0.  0.  0.]]\n"
     ]
    }
   ],
   "source": [
    "import numpy as np\n",
    "import random\n",
    "\n",
    "# Create the initial environment with all states set to 0\n",
    "environment = np.zeros((5,5))\n",
    "\n",
    "# Gamma factor\n",
    "gamma = 0.002\n",
    "\n",
    "# Randomly define the blocked cells with nan\n",
    "environment[random.randint(0, (len(environment) - 1))][random.randint(0, (len(environment) - 1))] = None\n",
    "\n",
    "# Randomly define the location of \n",
    "environment[random.randint(0, (len(environment) - 1))][random.randint(0, (len(environment) - 1))] = None\n",
    "\n",
    "\n",
    "print(environment)"
   ]
  }
 ],
 "metadata": {
  "kernelspec": {
   "display_name": "Python 3",
   "language": "python",
   "name": "python3"
  },
  "language_info": {
   "codemirror_mode": {
    "name": "ipython",
    "version": 3
   },
   "file_extension": ".py",
   "mimetype": "text/x-python",
   "name": "python",
   "nbconvert_exporter": "python",
   "pygments_lexer": "ipython3",
   "version": "3.11.6"
  }
 },
 "nbformat": 4,
 "nbformat_minor": 2
}
