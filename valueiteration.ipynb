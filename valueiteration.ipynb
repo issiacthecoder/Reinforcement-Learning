{
 "cells": [
  {
   "cell_type": "code",
   "execution_count": 17,
   "metadata": {},
   "outputs": [
    {
     "ename": "IndexError",
     "evalue": "index 5 is out of bounds for axis 0 with size 4",
     "output_type": "error",
     "traceback": [
      "\u001b[1;31m---------------------------------------------------------------------------\u001b[0m",
      "\u001b[1;31mIndexError\u001b[0m                                Traceback (most recent call last)",
      "\u001b[1;32mc:\\Users\\ibaca\\Documents\\Graduate\\RL\\Reinforcement-Learning\\valueiteration.ipynb Cell 1\u001b[0m line \u001b[0;36m2\n\u001b[0;32m     <a href='vscode-notebook-cell:/c%3A/Users/ibaca/Documents/Graduate/RL/Reinforcement-Learning/valueiteration.ipynb#W0sZmlsZQ%3D%3D?line=19'>20</a>\u001b[0m environment[\u001b[39m0\u001b[39m][\u001b[39m3\u001b[39m] \u001b[39m=\u001b[39m \u001b[39m1\u001b[39m\n\u001b[0;32m     <a href='vscode-notebook-cell:/c%3A/Users/ibaca/Documents/Graduate/RL/Reinforcement-Learning/valueiteration.ipynb#W0sZmlsZQ%3D%3D?line=20'>21</a>\u001b[0m environment[\u001b[39m1\u001b[39m][\u001b[39m3\u001b[39m] \u001b[39m=\u001b[39m \u001b[39m-\u001b[39m\u001b[39m1\u001b[39m\n\u001b[1;32m---> <a href='vscode-notebook-cell:/c%3A/Users/ibaca/Documents/Graduate/RL/Reinforcement-Learning/valueiteration.ipynb#W0sZmlsZQ%3D%3D?line=22'>23</a>\u001b[0m \u001b[39mif\u001b[39;00m environment[\u001b[39m0\u001b[39;49m][\u001b[39m5\u001b[39;49m] \u001b[39m==\u001b[39m \u001b[39mFalse\u001b[39;00m:\n\u001b[0;32m     <a href='vscode-notebook-cell:/c%3A/Users/ibaca/Documents/Graduate/RL/Reinforcement-Learning/valueiteration.ipynb#W0sZmlsZQ%3D%3D?line=23'>24</a>\u001b[0m     \u001b[39mprint\u001b[39m(\u001b[39m\"\u001b[39m\u001b[39mHello\u001b[39m\u001b[39m\"\u001b[39m)\n\u001b[0;32m     <a href='vscode-notebook-cell:/c%3A/Users/ibaca/Documents/Graduate/RL/Reinforcement-Learning/valueiteration.ipynb#W0sZmlsZQ%3D%3D?line=24'>25</a>\u001b[0m \u001b[39m# Ensure code will not go past wall\u001b[39;00m\n\u001b[0;32m     <a href='vscode-notebook-cell:/c%3A/Users/ibaca/Documents/Graduate/RL/Reinforcement-Learning/valueiteration.ipynb#W0sZmlsZQ%3D%3D?line=25'>26</a>\u001b[0m \n\u001b[0;32m     <a href='vscode-notebook-cell:/c%3A/Users/ibaca/Documents/Graduate/RL/Reinforcement-Learning/valueiteration.ipynb#W0sZmlsZQ%3D%3D?line=26'>27</a>\u001b[0m \u001b[39m# for x in range(np.size(environment,1)):\u001b[39;00m\n\u001b[1;32m   (...)\u001b[0m\n\u001b[0;32m     <a href='vscode-notebook-cell:/c%3A/Users/ibaca/Documents/Graduate/RL/Reinforcement-Learning/valueiteration.ipynb#W0sZmlsZQ%3D%3D?line=44'>45</a>\u001b[0m \u001b[39m#             # Ensure code will not go past wall\u001b[39;00m\n\u001b[0;32m     <a href='vscode-notebook-cell:/c%3A/Users/ibaca/Documents/Graduate/RL/Reinforcement-Learning/valueiteration.ipynb#W0sZmlsZQ%3D%3D?line=45'>46</a>\u001b[0m \u001b[39m#             print(environment[x-1][y])\u001b[39;00m\n",
      "\u001b[1;31mIndexError\u001b[0m: index 5 is out of bounds for axis 0 with size 4"
     ]
    }
   ],
   "source": [
    "from pickle import FALSE\n",
    "import numpy as np\n",
    "import random\n",
    "\n",
    "# Create the initial environment with all states set to 0\n",
    "environment = np.zeros((3,4))\n",
    "\n",
    "# Initialize variables\n",
    "gamma = 0.9\n",
    "delta = 0\n",
    "theta = 0.5\n",
    "temporary = 0\n",
    "\n",
    "# # Randomly define the blocked cells with nan\n",
    "# environment[random.randint(0, (len(environment) - 1))][random.randint(0, (len(environment) - 1))] = None\n",
    "\n",
    "# # Randomly define the desired terminal state\n",
    "# environment[random.randint(0, (len(environment) - 1))][random.randint(0, (len(environment) - 1))] = 1\n",
    "\n",
    "while delta < theta:\n",
    "    for x in range(np.size(environment,1)):\n",
    "        for y in range(len(environment)):\n",
    "            environment[1][1] = None\n",
    "            environment[0][3] = 1\n",
    "            environment[1][3] = -1\n",
    "\n",
    "            # Ensure code will not go past wall\n",
    "            if x == 0 and y == 0:\n",
    "                up = environment[x][y]\n",
    "                left = environment[x][y]\n",
    "                right = environment[x][y+1]\n",
    "                down = environment[x + 1][y]\n",
    "            if x == 0:\n",
    "                up = environment[x][y]\n",
    "                left = environment[x][y]\n",
    "                right = environment[x][y+1]\n",
    "                down = environment[x + 1][y]\n",
    "            if x == 0 and y == \n",
    "                \n",
    "print(environment)"
   ]
  },
  {
   "cell_type": "code",
   "execution_count": null,
   "metadata": {},
   "outputs": [],
   "source": []
  }
 ],
 "metadata": {
  "kernelspec": {
   "display_name": "Python 3",
   "language": "python",
   "name": "python3"
  },
  "language_info": {
   "codemirror_mode": {
    "name": "ipython",
    "version": 3
   },
   "file_extension": ".py",
   "mimetype": "text/x-python",
   "name": "python",
   "nbconvert_exporter": "python",
   "pygments_lexer": "ipython3",
   "version": "3.11.6"
  }
 },
 "nbformat": 4,
 "nbformat_minor": 2
}
