{
 "cells": [
  {
   "cell_type": "code",
   "execution_count": 31,
   "metadata": {},
   "outputs": [
    {
     "name": "stdout",
     "output_type": "stream",
     "text": [
      "[[ 5.  5.  5.  5.  5.]\n",
      " [ 5.  5.  5.  5. nan]\n",
      " [ 5.  5.  5.  5.  6.]\n",
      " [ 5.  5.  5.  5.  5.]\n",
      " [ 5.  5.  5.  5.  5.]]\n"
     ]
    }
   ],
   "source": [
    "import numpy as np\n",
    "import random\n",
    "\n",
    "# Create the initial environment with all states set to 0\n",
    "environment = np.zeros((5,5))\n",
    "\n",
    "# Initialize variables\n",
    "gamma = 0.002\n",
    "delta = 0\n",
    "theta = 0.5\n",
    "\n",
    "# Randomly define the blocked cells with nan\n",
    "environment[random.randint(0, (len(environment) - 1))][random.randint(0, (len(environment) - 1))] = None\n",
    "\n",
    "# Randomly define the desired terminal state\n",
    "environment[random.randint(0, (len(environment) - 1))][random.randint(0, (len(environment) - 1))] = 1\n",
    "\n",
    "\n",
    "\n",
    "while delta < theta:\n",
    "    for x in range(len(environment)):\n",
    "        for y in range(len(environment)):\n",
    "            environment[x][y] += \n",
    "\n",
    "print(environment)"
   ]
  }
 ],
 "metadata": {
  "kernelspec": {
   "display_name": "Python 3",
   "language": "python",
   "name": "python3"
  },
  "language_info": {
   "codemirror_mode": {
    "name": "ipython",
    "version": 3
   },
   "file_extension": ".py",
   "mimetype": "text/x-python",
   "name": "python",
   "nbconvert_exporter": "python",
   "pygments_lexer": "ipython3",
   "version": "3.11.4"
  }
 },
 "nbformat": 4,
 "nbformat_minor": 2
}
